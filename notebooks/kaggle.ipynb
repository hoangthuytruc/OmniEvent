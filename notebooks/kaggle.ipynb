{
 "cells": [
  {
   "cell_type": "code",
   "execution_count": null,
   "metadata": {},
   "outputs": [],
   "source": [
    "import shutil\n",
    "import os\n",
    "from IPython.display import FileLink\n",
    "\n",
    "# Define the source and destination paths\n",
    "source_folder = '/root/.cache/OmniEvent_Model'\n",
    "destination_folder = '/kaggle/working/checkpoints'\n",
    "\n",
    "# Ensure the destination folder does not already exist\n",
    "if os.path.exists(destination_folder):\n",
    "    shutil.rmtree(destination_folder)  # Remove it if it exists\n",
    "\n",
    "# Copy the folder\n",
    "shutil.copytree(source_folder, destination_folder)\n",
    "\n",
    "print(f'Folder copied from {source_folder} to {destination_folder}')\n",
    "\n",
    "# Define the source folder path\n",
    "source_folder = '/kaggle/working/checkpoints'\n",
    "# Define the output zip file path\n",
    "output_zip = '/kaggle/working/checkpoints.zip'\n",
    "\n",
    "# Create a zip archive\n",
    "shutil.make_archive(output_zip.replace('.zip', ''), 'zip', source_folder)\n",
    "\n",
    "os.chdir('/kaggle/working')\n",
    "\n",
    "FileLink('checkpoints.zip')"
   ]
  }
 ],
 "metadata": {
  "language_info": {
   "name": "python"
  }
 },
 "nbformat": 4,
 "nbformat_minor": 2
}
